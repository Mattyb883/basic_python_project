{
 "cells": [
  {
   "cell_type": "markdown",
   "id": "f85a80d2",
   "metadata": {},
   "source": [
    "## Basic Python - Project <a id='intro'></a>"
   ]
  },
  {
   "cell_type": "markdown",
   "id": "a1262df4",
   "metadata": {},
   "source": [
    "## Introduction <a id='intro'></a>\n",
    "In this project, you will work with data from the entertainment industry. You will study a dataset with records on movies and shows. The research will focus on the \"Golden Age\" of television, which began in 1999 with the release of *The Sopranos* and is still ongoing.\n",
    "\n",
    "The aim of this project is to investigate how the number of votes a title receives impacts its ratings. The assumption is that highly-rated shows (we will focus on TV shows, ignoring movies) released during the \"Golden Age\" of television also have the most votes.\n",
    "\n",
    "### Stages \n",
    "Data on movies and shows is stored in the `/datasets/movies_and_shows.csv` file. There is no information about the quality of the data, so you will need to explore it before doing the analysis.\n",
    "\n",
    "First, you'll evaluate the quality of the data and see whether its issues are significant. Then, during data preprocessing, you will try to account for the most critical problems.\n",
    " \n",
    "Your project will consist of three stages:\n",
    " 1. Data overview\n",
    " 2. Data preprocessing\n",
    " 3. Data analysis"
   ]
  },
  {
   "cell_type": "markdown",
   "id": "ac0593ac",
   "metadata": {},
   "source": [
    "## Stage 1. Data overview <a id='data_review'></a>\n",
    "\n",
    "Open and explore the data."
   ]
  },
  {
   "cell_type": "markdown",
   "id": "e86ed00e",
   "metadata": {},
   "source": [
    "You'll need `pandas`, so import it."
   ]
  },
  {
   "cell_type": "code",
   "execution_count": 1,
   "id": "1727d3f8",
   "metadata": {},
   "outputs": [],
   "source": [
    "import pandas as pd# importing pandas\n"
   ]
  },
  {
   "cell_type": "markdown",
   "id": "9821beeb",
   "metadata": {},
   "source": [
    "Read the `movies_and_shows.csv` file from the `datasets` folder and save it in the `df` variable:"
   ]
  },
  {
   "cell_type": "code",
   "execution_count": 2,
   "id": "fc5a1402",
   "metadata": {},
   "outputs": [],
   "source": [
    "df = pd.read_csv('/datasets/movies_and_shows.csv')# reading the files and storing them to df\n"
   ]
  },
  {
   "cell_type": "markdown",
   "id": "1cd0a96d",
   "metadata": {},
   "source": [
    "Print the first 10 table rows:"
   ]
  },
  {
   "cell_type": "code",
   "execution_count": 3,
   "id": "acd92001",
   "metadata": {},
   "outputs": [
    {
     "data": {
      "text/html": [
       "<div>\n",
       "<style scoped>\n",
       "    .dataframe tbody tr th:only-of-type {\n",
       "        vertical-align: middle;\n",
       "    }\n",
       "\n",
       "    .dataframe tbody tr th {\n",
       "        vertical-align: top;\n",
       "    }\n",
       "\n",
       "    .dataframe thead th {\n",
       "        text-align: right;\n",
       "    }\n",
       "</style>\n",
       "<table border=\"1\" class=\"dataframe\">\n",
       "  <thead>\n",
       "    <tr style=\"text-align: right;\">\n",
       "      <th></th>\n",
       "      <th>name</th>\n",
       "      <th>Character</th>\n",
       "      <th>r0le</th>\n",
       "      <th>TITLE</th>\n",
       "      <th>Type</th>\n",
       "      <th>release Year</th>\n",
       "      <th>genres</th>\n",
       "      <th>imdb sc0re</th>\n",
       "      <th>imdb v0tes</th>\n",
       "    </tr>\n",
       "  </thead>\n",
       "  <tbody>\n",
       "    <tr>\n",
       "      <th>0</th>\n",
       "      <td>Robert De Niro</td>\n",
       "      <td>Travis Bickle</td>\n",
       "      <td>ACTOR</td>\n",
       "      <td>Taxi Driver</td>\n",
       "      <td>MOVIE</td>\n",
       "      <td>1976</td>\n",
       "      <td>['drama', 'crime']</td>\n",
       "      <td>8.2</td>\n",
       "      <td>808582.0</td>\n",
       "    </tr>\n",
       "    <tr>\n",
       "      <th>1</th>\n",
       "      <td>Jodie Foster</td>\n",
       "      <td>Iris Steensma</td>\n",
       "      <td>ACTOR</td>\n",
       "      <td>Taxi Driver</td>\n",
       "      <td>MOVIE</td>\n",
       "      <td>1976</td>\n",
       "      <td>['drama', 'crime']</td>\n",
       "      <td>8.2</td>\n",
       "      <td>808582.0</td>\n",
       "    </tr>\n",
       "    <tr>\n",
       "      <th>2</th>\n",
       "      <td>Albert Brooks</td>\n",
       "      <td>Tom</td>\n",
       "      <td>ACTOR</td>\n",
       "      <td>Taxi Driver</td>\n",
       "      <td>MOVIE</td>\n",
       "      <td>1976</td>\n",
       "      <td>['drama', 'crime']</td>\n",
       "      <td>8.2</td>\n",
       "      <td>808582.0</td>\n",
       "    </tr>\n",
       "    <tr>\n",
       "      <th>3</th>\n",
       "      <td>Harvey Keitel</td>\n",
       "      <td>Matthew 'Sport' Higgins</td>\n",
       "      <td>ACTOR</td>\n",
       "      <td>Taxi Driver</td>\n",
       "      <td>MOVIE</td>\n",
       "      <td>1976</td>\n",
       "      <td>['drama', 'crime']</td>\n",
       "      <td>8.2</td>\n",
       "      <td>808582.0</td>\n",
       "    </tr>\n",
       "    <tr>\n",
       "      <th>4</th>\n",
       "      <td>Cybill Shepherd</td>\n",
       "      <td>Betsy</td>\n",
       "      <td>ACTOR</td>\n",
       "      <td>Taxi Driver</td>\n",
       "      <td>MOVIE</td>\n",
       "      <td>1976</td>\n",
       "      <td>['drama', 'crime']</td>\n",
       "      <td>8.2</td>\n",
       "      <td>808582.0</td>\n",
       "    </tr>\n",
       "    <tr>\n",
       "      <th>5</th>\n",
       "      <td>Peter Boyle</td>\n",
       "      <td>Wizard</td>\n",
       "      <td>ACTOR</td>\n",
       "      <td>Taxi Driver</td>\n",
       "      <td>MOVIE</td>\n",
       "      <td>1976</td>\n",
       "      <td>['drama', 'crime']</td>\n",
       "      <td>8.2</td>\n",
       "      <td>808582.0</td>\n",
       "    </tr>\n",
       "    <tr>\n",
       "      <th>6</th>\n",
       "      <td>Leonard Harris</td>\n",
       "      <td>Senator Charles Palantine</td>\n",
       "      <td>ACTOR</td>\n",
       "      <td>Taxi Driver</td>\n",
       "      <td>MOVIE</td>\n",
       "      <td>1976</td>\n",
       "      <td>['drama', 'crime']</td>\n",
       "      <td>8.2</td>\n",
       "      <td>808582.0</td>\n",
       "    </tr>\n",
       "    <tr>\n",
       "      <th>7</th>\n",
       "      <td>Diahnne Abbott</td>\n",
       "      <td>Concession Girl</td>\n",
       "      <td>ACTOR</td>\n",
       "      <td>Taxi Driver</td>\n",
       "      <td>MOVIE</td>\n",
       "      <td>1976</td>\n",
       "      <td>['drama', 'crime']</td>\n",
       "      <td>8.2</td>\n",
       "      <td>808582.0</td>\n",
       "    </tr>\n",
       "    <tr>\n",
       "      <th>8</th>\n",
       "      <td>Gino Ardito</td>\n",
       "      <td>Policeman at Rally</td>\n",
       "      <td>ACTOR</td>\n",
       "      <td>Taxi Driver</td>\n",
       "      <td>MOVIE</td>\n",
       "      <td>1976</td>\n",
       "      <td>['drama', 'crime']</td>\n",
       "      <td>8.2</td>\n",
       "      <td>808582.0</td>\n",
       "    </tr>\n",
       "    <tr>\n",
       "      <th>9</th>\n",
       "      <td>Martin Scorsese</td>\n",
       "      <td>Passenger Watching Silhouette</td>\n",
       "      <td>ACTOR</td>\n",
       "      <td>Taxi Driver</td>\n",
       "      <td>MOVIE</td>\n",
       "      <td>1976</td>\n",
       "      <td>['drama', 'crime']</td>\n",
       "      <td>8.2</td>\n",
       "      <td>808582.0</td>\n",
       "    </tr>\n",
       "  </tbody>\n",
       "</table>\n",
       "</div>"
      ],
      "text/plain": [
       "              name                      Character   r0le        TITLE   Type  \\\n",
       "0   Robert De Niro                  Travis Bickle  ACTOR  Taxi Driver  MOVIE   \n",
       "1     Jodie Foster                  Iris Steensma  ACTOR  Taxi Driver  MOVIE   \n",
       "2    Albert Brooks                            Tom  ACTOR  Taxi Driver  MOVIE   \n",
       "3    Harvey Keitel        Matthew 'Sport' Higgins  ACTOR  Taxi Driver  MOVIE   \n",
       "4  Cybill Shepherd                          Betsy  ACTOR  Taxi Driver  MOVIE   \n",
       "5      Peter Boyle                         Wizard  ACTOR  Taxi Driver  MOVIE   \n",
       "6   Leonard Harris      Senator Charles Palantine  ACTOR  Taxi Driver  MOVIE   \n",
       "7   Diahnne Abbott                Concession Girl  ACTOR  Taxi Driver  MOVIE   \n",
       "8      Gino Ardito             Policeman at Rally  ACTOR  Taxi Driver  MOVIE   \n",
       "9  Martin Scorsese  Passenger Watching Silhouette  ACTOR  Taxi Driver  MOVIE   \n",
       "\n",
       "   release Year              genres  imdb sc0re  imdb v0tes  \n",
       "0          1976  ['drama', 'crime']         8.2    808582.0  \n",
       "1          1976  ['drama', 'crime']         8.2    808582.0  \n",
       "2          1976  ['drama', 'crime']         8.2    808582.0  \n",
       "3          1976  ['drama', 'crime']         8.2    808582.0  \n",
       "4          1976  ['drama', 'crime']         8.2    808582.0  \n",
       "5          1976  ['drama', 'crime']         8.2    808582.0  \n",
       "6          1976  ['drama', 'crime']         8.2    808582.0  \n",
       "7          1976  ['drama', 'crime']         8.2    808582.0  \n",
       "8          1976  ['drama', 'crime']         8.2    808582.0  \n",
       "9          1976  ['drama', 'crime']         8.2    808582.0  "
      ]
     },
     "execution_count": 3,
     "metadata": {},
     "output_type": "execute_result"
    }
   ],
   "source": [
    "df.head(10)# obtaining the first 10 rows from the df table\n",
    "# hint: you can use head() and tail() in Jupyter Notebook without wrapping them into print()\n"
   ]
  },
  {
   "cell_type": "markdown",
   "id": "e579aa91",
   "metadata": {},
   "source": [
    "Obtain the general information about the table with one command:"
   ]
  },
  {
   "cell_type": "code",
   "execution_count": 4,
   "id": "7bf66d2a",
   "metadata": {},
   "outputs": [
    {
     "name": "stdout",
     "output_type": "stream",
     "text": [
      "<class 'pandas.core.frame.DataFrame'>\n",
      "RangeIndex: 85579 entries, 0 to 85578\n",
      "Data columns (total 9 columns):\n",
      " #   Column        Non-Null Count  Dtype  \n",
      "---  ------        --------------  -----  \n",
      " 0      name       85579 non-null  object \n",
      " 1   Character     85579 non-null  object \n",
      " 2   r0le          85579 non-null  object \n",
      " 3   TITLE         85578 non-null  object \n",
      " 4     Type        85579 non-null  object \n",
      " 5   release Year  85579 non-null  int64  \n",
      " 6   genres        85579 non-null  object \n",
      " 7   imdb sc0re    80970 non-null  float64\n",
      " 8   imdb v0tes    80853 non-null  float64\n",
      "dtypes: float64(2), int64(1), object(6)\n",
      "memory usage: 5.9+ MB\n"
     ]
    }
   ],
   "source": [
    "df.info()# obtaining general information about the data in df\n"
   ]
  },
  {
   "cell_type": "markdown",
   "id": "e91f62a7",
   "metadata": {},
   "source": [
    "The table contains nine columns. The majority store the same data type: object. The only exceptions are `'release Year'` (int64 type), `'imdb sc0re'` (float64 type) and `'imdb v0tes'` (float64 type). Scores and votes will be used in our analysis, so it's important to verify that they are present in the dataframe in the appropriate numeric format. Three columns (`'TITLE'`, `'imdb sc0re'` and `'imdb v0tes'`) have missing values.\n",
    "\n",
    "According to the documentation:\n",
    "- `'name'` — actor/director's name and last name\n",
    "- `'Character'` — character played (for actors)\n",
    "- `'r0le '` — the person's contribution to the title (it can be in the capacity of either actor or director)\n",
    "- `'TITLE '` — title of the movie (show)\n",
    "- `'  Type'` — show or movie\n",
    "- `'release Year'` — year when movie (show) was released\n",
    "- `'genres'` — list of genres under which the movie (show) falls\n",
    "- `'imdb sc0re'` — score on IMDb\n",
    "- `'imdb v0tes'` — votes on IMDb\n",
    "\n",
    "We can see three issues with the column names:\n",
    "1. Some names are uppercase, while others are lowercase.\n",
    "2. There are names containing whitespace.\n",
    "3. A few column names have digit '0' instead of letter 'o'. \n"
   ]
  },
  {
   "cell_type": "markdown",
   "id": "4355de7b",
   "metadata": {},
   "source": [
    "### Conclusions <a id='data_review_conclusions'></a> \n",
    "\n",
    "Each row in the table stores data about a movie or show. The columns can be divided into two categories: the first is about the roles held by different people who worked on the movie or show (role, name of the actor or director, and character if the row is about an actor); the second category is information about the movie or show itself (title, release year, genre, imdb figures).\n",
    "\n",
    "It's clear that there is sufficient data to do the analysis and evaluate our assumption. However, to move forward, we need to preprocess the data."
   ]
  },
  {
   "cell_type": "markdown",
   "id": "c5dc9111",
   "metadata": {},
   "source": [
    "## Stage 2. Data preprocessing <a id='data_preprocessing'></a>\n",
    "Correct the formatting in the column headers and deal with the missing values. Then, check whether there are duplicates in the data."
   ]
  },
  {
   "cell_type": "code",
   "execution_count": 5,
   "id": "9c850d13",
   "metadata": {},
   "outputs": [
    {
     "name": "stdout",
     "output_type": "stream",
     "text": [
      "Index(['   name', 'Character', 'r0le', 'TITLE', '  Type', 'release Year',\n",
      "       'genres', 'imdb sc0re', 'imdb v0tes'],\n",
      "      dtype='object')\n"
     ]
    }
   ],
   "source": [
    "print(df.columns)# the list of column names in the df table\n"
   ]
  },
  {
   "cell_type": "markdown",
   "id": "5f966df9",
   "metadata": {},
   "source": [
    "Change the column names according to the rules of good style:\n",
    "* If the name has several words, use snake_case\n",
    "* All characters must be lowercase\n",
    "* Remove whitespace\n",
    "* Replace zero with letter 'o'"
   ]
  },
  {
   "cell_type": "code",
   "execution_count": 6,
   "id": "23a1dc11",
   "metadata": {},
   "outputs": [],
   "source": [
    "columns = df.rename(\n",
    "    columns={\n",
    "        '   name': 'name',\n",
    "        'Character': 'character',\n",
    "        'r0le': 'role',\n",
    "        'TITLE': 'title',\n",
    "        '  Type': 'type',\n",
    "        'release Year': 'release_year',\n",
    "        'imdb sc0re': 'imdb_score',\n",
    "        'imdb v0tes': 'imdb_votes',\n",
    "    },\n",
    "inplace=True)\n",
    "# renaming columns\n"
   ]
  },
  {
   "cell_type": "markdown",
   "id": "464fbd04",
   "metadata": {},
   "source": [
    "Check the result. Print the names of the columns once more:"
   ]
  },
  {
   "cell_type": "code",
   "execution_count": 7,
   "id": "0eb6527f",
   "metadata": {},
   "outputs": [
    {
     "name": "stdout",
     "output_type": "stream",
     "text": [
      "Index(['name', 'character', 'role', 'title', 'type', 'release_year', 'genres',\n",
      "       'imdb_score', 'imdb_votes'],\n",
      "      dtype='object')\n"
     ]
    }
   ],
   "source": [
    "print(df.columns)# checking result: the list of column names\n"
   ]
  },
  {
   "cell_type": "markdown",
   "id": "14d9c319",
   "metadata": {},
   "source": [
    "### Missing values <a id='missing_values'></a>\n",
    "First, find the number of missing values in the table. To do so, combine two `pandas` methods:"
   ]
  },
  {
   "cell_type": "code",
   "execution_count": 8,
   "id": "21c427f2",
   "metadata": {},
   "outputs": [
    {
     "name": "stdout",
     "output_type": "stream",
     "text": [
      "0\n"
     ]
    }
   ],
   "source": [
    "print(df.columns.isna().sum())# calculating missing values\n"
   ]
  },
  {
   "cell_type": "markdown",
   "id": "c8272df3",
   "metadata": {},
   "source": [
    "We identified missing values in several columns. While the missing value in `'title'` isn't critical, missing values in `'imdb_score'` and `'imdb_votes'` affect around 6% of the data, which could impact our analysis. To ensure data integrity, we'll drop all rows with missing values."
   ]
  },
  {
   "cell_type": "code",
   "execution_count": 9,
   "id": "599d5550",
   "metadata": {},
   "outputs": [],
   "source": [
    "df_cleaned = df.dropna()# dropping rows where columns with scores, and votes have missing values\n"
   ]
  },
  {
   "cell_type": "markdown",
   "id": "2156887f",
   "metadata": {},
   "source": [
    "Make sure the table doesn't contain any more missing values. Count the missing values again."
   ]
  },
  {
   "cell_type": "code",
   "execution_count": 10,
   "id": "55c0b0ce",
   "metadata": {},
   "outputs": [
    {
     "name": "stdout",
     "output_type": "stream",
     "text": [
      "Missing values after cleaning:\n"
     ]
    },
    {
     "data": {
      "text/plain": [
       "name            0\n",
       "character       0\n",
       "role            0\n",
       "title           0\n",
       "type            0\n",
       "release_year    0\n",
       "genres          0\n",
       "imdb_score      0\n",
       "imdb_votes      0\n",
       "dtype: int64"
      ]
     },
     "metadata": {},
     "output_type": "display_data"
    }
   ],
   "source": [
    "missing_values_count_after = df_cleaned.isna().sum()\n",
    "\n",
    "print(\"Missing values after cleaning:\")\n",
    "display(missing_values_count_after)"
   ]
  },
  {
   "cell_type": "markdown",
   "id": "a7dc7aa0",
   "metadata": {},
   "source": [
    "### Duplicates <a id='duplicates'></a>\n",
    "Find the number of duplicate rows in the table using one command:"
   ]
  },
  {
   "cell_type": "code",
   "execution_count": 11,
   "id": "9227df01",
   "metadata": {},
   "outputs": [],
   "source": [
    "duplicate_count = df_cleaned.duplicated().sum()\n",
    "# counting duplicate rows"
   ]
  },
  {
   "cell_type": "markdown",
   "id": "5f6eb0fc",
   "metadata": {},
   "source": [
    "Review the duplicate rows to determine if removing them would distort our dataset."
   ]
  },
  {
   "cell_type": "code",
   "execution_count": 12,
   "id": "bcf32fcb",
   "metadata": {},
   "outputs": [
    {
     "data": {
      "text/html": [
       "<div>\n",
       "<style scoped>\n",
       "    .dataframe tbody tr th:only-of-type {\n",
       "        vertical-align: middle;\n",
       "    }\n",
       "\n",
       "    .dataframe tbody tr th {\n",
       "        vertical-align: top;\n",
       "    }\n",
       "\n",
       "    .dataframe thead th {\n",
       "        text-align: right;\n",
       "    }\n",
       "</style>\n",
       "<table border=\"1\" class=\"dataframe\">\n",
       "  <thead>\n",
       "    <tr style=\"text-align: right;\">\n",
       "      <th></th>\n",
       "      <th>name</th>\n",
       "      <th>character</th>\n",
       "      <th>role</th>\n",
       "      <th>title</th>\n",
       "      <th>type</th>\n",
       "      <th>release_year</th>\n",
       "      <th>genres</th>\n",
       "      <th>imdb_score</th>\n",
       "      <th>imdb_votes</th>\n",
       "    </tr>\n",
       "  </thead>\n",
       "  <tbody>\n",
       "    <tr>\n",
       "      <th>85574</th>\n",
       "      <td>Adelaida Buscato</td>\n",
       "      <td>Mar??a Paz</td>\n",
       "      <td>ACTOR</td>\n",
       "      <td>Lokillo</td>\n",
       "      <td>the movie</td>\n",
       "      <td>2021</td>\n",
       "      <td>['comedy']</td>\n",
       "      <td>3.8</td>\n",
       "      <td>68.0</td>\n",
       "    </tr>\n",
       "    <tr>\n",
       "      <th>85575</th>\n",
       "      <td>Luz Stella Luengas</td>\n",
       "      <td>Karen Bayona</td>\n",
       "      <td>ACTOR</td>\n",
       "      <td>Lokillo</td>\n",
       "      <td>the movie</td>\n",
       "      <td>2021</td>\n",
       "      <td>['comedy']</td>\n",
       "      <td>3.8</td>\n",
       "      <td>68.0</td>\n",
       "    </tr>\n",
       "    <tr>\n",
       "      <th>85576</th>\n",
       "      <td>In??s Prieto</td>\n",
       "      <td>Fanny</td>\n",
       "      <td>ACTOR</td>\n",
       "      <td>Lokillo</td>\n",
       "      <td>the movie</td>\n",
       "      <td>2021</td>\n",
       "      <td>['comedy']</td>\n",
       "      <td>3.8</td>\n",
       "      <td>68.0</td>\n",
       "    </tr>\n",
       "    <tr>\n",
       "      <th>85577</th>\n",
       "      <td>Isabel Gaona</td>\n",
       "      <td>Cacica</td>\n",
       "      <td>ACTOR</td>\n",
       "      <td>Lokillo</td>\n",
       "      <td>MOVIE</td>\n",
       "      <td>2021</td>\n",
       "      <td>['comedy']</td>\n",
       "      <td>3.8</td>\n",
       "      <td>68.0</td>\n",
       "    </tr>\n",
       "    <tr>\n",
       "      <th>85578</th>\n",
       "      <td>Julian Gaviria</td>\n",
       "      <td>unknown</td>\n",
       "      <td>DIRECTOR</td>\n",
       "      <td>Lokillo</td>\n",
       "      <td>the movie</td>\n",
       "      <td>2021</td>\n",
       "      <td>['comedy']</td>\n",
       "      <td>3.8</td>\n",
       "      <td>68.0</td>\n",
       "    </tr>\n",
       "  </tbody>\n",
       "</table>\n",
       "</div>"
      ],
      "text/plain": [
       "                     name     character      role    title       type  \\\n",
       "85574    Adelaida Buscato    Mar??a Paz     ACTOR  Lokillo  the movie   \n",
       "85575  Luz Stella Luengas  Karen Bayona     ACTOR  Lokillo  the movie   \n",
       "85576        In??s Prieto         Fanny     ACTOR  Lokillo  the movie   \n",
       "85577        Isabel Gaona        Cacica     ACTOR  Lokillo      MOVIE   \n",
       "85578      Julian Gaviria       unknown  DIRECTOR  Lokillo  the movie   \n",
       "\n",
       "       release_year      genres  imdb_score  imdb_votes  \n",
       "85574          2021  ['comedy']         3.8        68.0  \n",
       "85575          2021  ['comedy']         3.8        68.0  \n",
       "85576          2021  ['comedy']         3.8        68.0  \n",
       "85577          2021  ['comedy']         3.8        68.0  \n",
       "85578          2021  ['comedy']         3.8        68.0  "
      ]
     },
     "execution_count": 12,
     "metadata": {},
     "output_type": "execute_result"
    }
   ],
   "source": [
    "df_cleaned.tail(5)# Produce table with duplicates (with original rows included) and review last 5 rows\n"
   ]
  },
  {
   "cell_type": "markdown",
   "id": "a1ed6640",
   "metadata": {},
   "source": [
    "There are two clear duplicates in the printed rows. We can safely remove them.\n",
    "Call the `pandas` method for getting rid of duplicate rows:"
   ]
  },
  {
   "cell_type": "code",
   "execution_count": 13,
   "id": "724d5bc8",
   "metadata": {},
   "outputs": [],
   "source": [
    "df_cleaned = df_cleaned.drop_duplicates().reset_index(drop=True) # removing duplicate rowsn & reset index\n"
   ]
  },
  {
   "cell_type": "markdown",
   "id": "fc8c77ba",
   "metadata": {},
   "source": [
    "Check for duplicate rows once more to make sure you have removed all of them:"
   ]
  },
  {
   "cell_type": "code",
   "execution_count": 14,
   "id": "8091a9bc",
   "metadata": {},
   "outputs": [],
   "source": [
    "duplicate_count = df_cleaned.duplicated().sum()# checking for duplicates\n"
   ]
  },
  {
   "cell_type": "markdown",
   "id": "1d802b07",
   "metadata": {},
   "source": [
    "Now get rid of implicit duplicates in the `'type'` column. For example, the string `'SHOW'` can be written in different ways. These kinds of errors will also affect the result."
   ]
  },
  {
   "cell_type": "markdown",
   "id": "d5f987ed",
   "metadata": {},
   "source": [
    "Print a list of unique `'type'` names, sorted in alphabetical order. To do so:\n",
    "* Retrieve the intended dataframe column \n",
    "* Apply a sorting method to it\n",
    "* For the sorted column, call the method that will return all unique column values"
   ]
  },
  {
   "cell_type": "code",
   "execution_count": 15,
   "id": "3d7b0ac5",
   "metadata": {},
   "outputs": [],
   "source": [
    "type_cloumn = df['type']# viewing unique type names\n"
   ]
  },
  {
   "cell_type": "markdown",
   "id": "ac6e8b18",
   "metadata": {},
   "source": [
    "Look through the list to find implicit duplicates of `'show'` (`'movie'` duplicates will be ignored since the assumption is about shows). These could be names written incorrectly or alternative names of the same genre.\n",
    "\n",
    "You will see the following implicit duplicates:\n",
    "* `'shows'`\n",
    "* `'SHOW'`\n",
    "* `'tv show'`\n",
    "* `'tv shows'`\n",
    "* `'tv series'`\n",
    "* `'tv'`\n",
    "\n",
    "To get rid of them, declare the function `replace_wrong_show()` with two parameters: \n",
    "* `wrong_shows_list=` — the list of duplicates\n",
    "* `correct_show=` — the string with the correct value\n",
    "\n",
    "The function should correct the names in the `'type'` column from the `df` table (i.e., replace each value from the `wrong_shows_list` list with the value in `correct_show`)."
   ]
  },
  {
   "cell_type": "code",
   "execution_count": 16,
   "id": "bff944f9",
   "metadata": {},
   "outputs": [],
   "source": [
    "def replace_wrong_show(df, wrong_shows_list, correct_show):\n",
    "    df['type'] = df['type'].replace(wrong_shows_list, correct_show)\n",
    "    return df\n",
    "\n",
    "\n",
    "wrong_shows_list = ['shows', 'SHOW', 'tv show', 'tv shows', 'tv series', 'tv']\n",
    "correct_show = 'SHOW'\n",
    "\n",
    "df_cleaned = replace_wrong_show(df_cleaned, wrong_shows_list, correct_show)"
   ]
  },
  {
   "cell_type": "markdown",
   "id": "d02d13a6",
   "metadata": {},
   "source": [
    "Call `replace_wrong_show()` and pass it arguments so that it clears implicit duplicates and replaces them with `SHOW`:"
   ]
  },
  {
   "cell_type": "markdown",
   "id": "318b09f7",
   "metadata": {},
   "source": [
    "Make sure the duplicate names are removed. Print the list of unique values from the `'type'` column:"
   ]
  },
  {
   "cell_type": "code",
   "execution_count": 17,
   "id": "25d49d73",
   "metadata": {},
   "outputs": [
    {
     "name": "stdout",
     "output_type": "stream",
     "text": [
      "['MOVIE' 'the movie' 'tv show' 'shows' 'movies' 'tv shows' 'tv series'\n",
      " 'tv' 'SHOW']\n"
     ]
    }
   ],
   "source": [
    "unique_types = df['type'].unique()\n",
    "print(unique_types)# viewing unique genre names\n"
   ]
  },
  {
   "cell_type": "markdown",
   "id": "18b2049e",
   "metadata": {},
   "source": [
    "### Conclusions <a id='data_preprocessing_conclusions'></a>\n",
    "We detected three issues with the data:\n",
    "\n",
    "- Incorrect header styles\n",
    "- Missing values\n",
    "- Duplicate rows and implicit duplicates\n",
    "\n",
    "The headers have been cleaned up to make processing the table simpler.\n",
    "\n",
    "All rows with missing values have been removed. \n",
    "\n",
    "The absence of duplicates will make the results more precise and easier to understand.\n",
    "\n",
    "Now we can move on to our analysis of the prepared data."
   ]
  },
  {
   "cell_type": "markdown",
   "id": "1aa0f1b1",
   "metadata": {},
   "source": [
    "## Stage 3. Data analysis <a id='hypotheses'></a>"
   ]
  },
  {
   "cell_type": "markdown",
   "id": "f8fb6a0e",
   "metadata": {},
   "source": [
    "Based on the previous project stages, you can now define how the assumption will be checked. Calculate the average amount of votes for each score (this data is available in the `imdb_score` and `imdb_votes` columns), and then check how these averages relate to each other. If the averages for shows with the highest scores are bigger than those for shows with lower scores, the assumption appears to be true.\n",
    "\n",
    "Based on this, complete the following steps:\n",
    "\n",
    "- Filter the dataframe to only include shows released in 1999 or later.\n",
    "- Group scores into buckets by rounding the values of the appropriate column (a set of 1-10 integers will help us make the outcome of our calculations more evident without damaging the quality of our research).\n",
    "- Identify outliers among scores based on their number of votes, and exclude scores with few votes.\n",
    "- Calculate the average votes for each score and check whether the assumption matches the results."
   ]
  },
  {
   "cell_type": "markdown",
   "id": "0ea2cb51",
   "metadata": {},
   "source": [
    "To filter the dataframe and only include shows released in 1999 or later, you will take two steps. First, keep only titles published in 1999 or later in our dataframe. Then, filter the table to only contain shows (movies will be removed)."
   ]
  },
  {
   "cell_type": "code",
   "execution_count": 18,
   "id": "6a704aa1",
   "metadata": {},
   "outputs": [],
   "source": [
    "df_after_1999 = df_cleaned[df_cleaned['release_year'] >= 1999]\n",
    "# using conditional indexing modify df so it has only titles released after 1999 (with 1999 included)\n"
   ]
  },
  {
   "cell_type": "code",
   "execution_count": 19,
   "id": "128dc6a9",
   "metadata": {
    "scrolled": true
   },
   "outputs": [
    {
     "name": "stdout",
     "output_type": "stream",
     "text": [
      "                  name                character   role      title  type  \\\n",
      "1661       Jeff Probst           Himself - Host  ACTOR   Survivor  SHOW   \n",
      "2073     Mayumi Tanaka  Monkey D. Luffy (voice)  ACTOR  One Piece  SHOW   \n",
      "2074      Kazuya Nakai     Roronoa Zoro (voice)  ACTOR  One Piece  SHOW   \n",
      "2075     Akemi Okamura             Nami (voice)  ACTOR  One Piece  SHOW   \n",
      "2076  Kappei Yamaguchi            Usopp (voice)  ACTOR  One Piece  SHOW   \n",
      "\n",
      "      release_year                                             genres  \\\n",
      "1661          2000                                        ['reality']   \n",
      "2073          1999  ['animation', 'action', 'comedy', 'drama', 'fa...   \n",
      "2074          1999  ['animation', 'action', 'comedy', 'drama', 'fa...   \n",
      "2075          1999  ['animation', 'action', 'comedy', 'drama', 'fa...   \n",
      "2076          1999  ['animation', 'action', 'comedy', 'drama', 'fa...   \n",
      "\n",
      "      imdb_score  imdb_votes  \n",
      "1661         7.4     24687.0  \n",
      "2073         8.8    117129.0  \n",
      "2074         8.8    117129.0  \n",
      "2075         8.8    117129.0  \n",
      "2076         8.8    117129.0  \n"
     ]
    }
   ],
   "source": [
    "df_shows = df_after_1999[df_after_1999['type'] == 'SHOW']\n",
    "# repeat conditional indexing so df has only shows (movies are removed as result)\n",
    "print(df_shows.head())\n"
   ]
  },
  {
   "cell_type": "markdown",
   "id": "9648040c",
   "metadata": {},
   "source": [
    "The scores that are to be grouped should be rounded. For instance, titles with scores like 7.8, 8.1, and 8.3 will all be placed in the same bucket with a score of 8."
   ]
  },
  {
   "cell_type": "code",
   "execution_count": 20,
   "id": "54bbd5c0",
   "metadata": {},
   "outputs": [
    {
     "name": "stdout",
     "output_type": "stream",
     "text": [
      "                      name character      role      title  type  release_year  \\\n",
      "73831     Maneerat Kam-Uan        Ae     ACTOR  Let's Eat  SHOW          2021   \n",
      "73832    Rudklao Amratisha   unknown     ACTOR  Let's Eat  SHOW          2021   \n",
      "73833      Jaturong Mokjok   unknown     ACTOR  Let's Eat  SHOW          2021   \n",
      "73834     Pisamai Wilaisak   unknown     ACTOR  Let's Eat  SHOW          2021   \n",
      "73835  Sarawut Wichiensarn   unknown  DIRECTOR  Let's Eat  SHOW          2021   \n",
      "\n",
      "                    genres  imdb_score  imdb_votes  score_rounded  \n",
      "73831  ['drama', 'comedy']         8.2         5.0            8.0  \n",
      "73832  ['drama', 'comedy']         8.2         5.0            8.0  \n",
      "73833  ['drama', 'comedy']         8.2         5.0            8.0  \n",
      "73834  ['drama', 'comedy']         8.2         5.0            8.0  \n",
      "73835  ['drama', 'comedy']         8.2         5.0            8.0  \n"
     ]
    },
    {
     "name": "stderr",
     "output_type": "stream",
     "text": [
      "/tmp/ipykernel_139/1096310484.py:1: SettingWithCopyWarning: \n",
      "A value is trying to be set on a copy of a slice from a DataFrame.\n",
      "Try using .loc[row_indexer,col_indexer] = value instead\n",
      "\n",
      "See the caveats in the documentation: https://pandas.pydata.org/pandas-docs/stable/user_guide/indexing.html#returning-a-view-versus-a-copy\n",
      "  df_shows['score_rounded'] = df_shows['imdb_score'].round()# rounding column with scores\n"
     ]
    }
   ],
   "source": [
    "df_shows['score_rounded'] = df_shows['imdb_score'].round()# rounding column with scores\n",
    "\n",
    "print(df_shows.tail())#checking the outcome with tail()\n"
   ]
  },
  {
   "cell_type": "markdown",
   "id": "36dbd00a",
   "metadata": {},
   "source": [
    "It is now time to identify outliers based on the number of votes."
   ]
  },
  {
   "cell_type": "code",
   "execution_count": 21,
   "id": "b8b55e95",
   "metadata": {},
   "outputs": [
    {
     "name": "stdout",
     "output_type": "stream",
     "text": [
      "score_rounded\n",
      "2.0       5\n",
      "3.0       4\n",
      "4.0      30\n",
      "5.0      94\n",
      "6.0     347\n",
      "7.0     593\n",
      "8.0     539\n",
      "9.0      65\n",
      "10.0      1\n",
      "Name: title, dtype: int64\n"
     ]
    }
   ],
   "source": [
    "grouped_counts = df_shows.groupby('score_rounded')['title'].nunique()\n",
    "# Use groupby() for scores and count all unique values in each group, print the result\n",
    "print(grouped_counts)"
   ]
  },
  {
   "cell_type": "markdown",
   "id": "1ba6daae",
   "metadata": {},
   "source": [
    "Based on the aggregation performed, it is evident that scores 2 (24 voted shows), 3 (27 voted shows), and 10 (only 8 voted shows) are outliers. There isn't enough data for these scores for the average number of votes to be meaningful."
   ]
  },
  {
   "cell_type": "markdown",
   "id": "bd468c46",
   "metadata": {},
   "source": [
    "To obtain the mean numbers of votes for the selected scores (we identified a range of 4-9 as acceptable), use conditional filtering and grouping."
   ]
  },
  {
   "cell_type": "code",
   "execution_count": 22,
   "id": "d1867e0e",
   "metadata": {},
   "outputs": [],
   "source": [
    "# filter dataframe using two conditions (scores to be in the range 4-9)\n",
    "filtered_df = df_shows[(df_shows['score_rounded'] >=4) & (df_shows['score_rounded'] <= 9)]\n",
    "\n",
    "# group scores and corresponding average number of votes, reset index and print the result\n",
    "average_votes = filtered_df.groupby('score_rounded')['imdb_votes'].mean().reset_index()\n"
   ]
  },
  {
   "cell_type": "markdown",
   "id": "96a66d14",
   "metadata": {},
   "source": [
    "Now for the final step! Round the column with the averages, rename both columns, and print the dataframe in descending order."
   ]
  },
  {
   "cell_type": "code",
   "execution_count": 23,
   "id": "5999051b",
   "metadata": {},
   "outputs": [
    {
     "name": "stdout",
     "output_type": "stream",
     "text": [
      "   score  average_votes\n",
      "5    9.0       126904.0\n",
      "4    8.0        30299.0\n",
      "3    7.0         8727.0\n",
      "2    6.0         3482.0\n",
      "1    5.0         3144.0\n",
      "0    4.0         5278.0\n"
     ]
    }
   ],
   "source": [
    "# round column with averages\n",
    "average_votes['imdb_votes'] = average_votes['imdb_votes'].round()\n",
    "# rename columns\n",
    "average_votes.rename(columns={'score_rounded': 'score', 'imdb_votes': 'average_votes'}, inplace=True)\n",
    "# print dataframe in descending order\n",
    "print(average_votes.sort_values(by='score', ascending=False))\n"
   ]
  },
  {
   "cell_type": "markdown",
   "id": "af07386d",
   "metadata": {},
   "source": [
    "The assumption macthes the analysis: the shows with the top 3 scores have the most amounts of votes."
   ]
  },
  {
   "cell_type": "markdown",
   "id": "84e29a37",
   "metadata": {},
   "source": [
    "## Conclusion <a id='hypotheses'></a>"
   ]
  },
  {
   "cell_type": "markdown",
   "id": "984766a3",
   "metadata": {},
   "source": [
    "The research done confirms that highly-rated shows released during the \"Golden Age\" of television also have the most votes. While shows with score 4 have more votes than ones with scores 5 and 6, the top three (scores 7-9) have the largest number. The data studied represents around 94% of the original set, so we can be confident in our findings."
   ]
  }
 ],
 "metadata": {
  "ExecuteTimeLog": [
   {
    "duration": 319,
    "start_time": "2024-10-07T17:38:01.012Z"
   },
   {
    "duration": 180,
    "start_time": "2024-10-07T17:40:24.898Z"
   },
   {
    "duration": 119,
    "start_time": "2024-10-07T17:41:35.696Z"
   },
   {
    "duration": 178,
    "start_time": "2024-10-07T17:47:30.874Z"
   },
   {
    "duration": 15,
    "start_time": "2024-10-07T17:49:23.635Z"
   },
   {
    "duration": 12,
    "start_time": "2024-10-07T17:49:59.741Z"
   },
   {
    "duration": 14,
    "start_time": "2024-10-07T17:50:12.435Z"
   },
   {
    "duration": 28,
    "start_time": "2024-10-07T17:52:12.402Z"
   },
   {
    "duration": 15,
    "start_time": "2024-10-07T17:54:58.105Z"
   },
   {
    "duration": 3,
    "start_time": "2024-10-07T17:55:05.328Z"
   },
   {
    "duration": 5,
    "start_time": "2024-10-07T18:02:40.763Z"
   },
   {
    "duration": 4,
    "start_time": "2024-10-07T18:03:05.657Z"
   },
   {
    "duration": 4,
    "start_time": "2024-10-07T18:03:26.838Z"
   },
   {
    "duration": 13,
    "start_time": "2024-10-07T18:03:50.172Z"
   },
   {
    "duration": 14,
    "start_time": "2024-10-07T18:04:16.852Z"
   },
   {
    "duration": 4,
    "start_time": "2024-10-07T18:04:33.470Z"
   },
   {
    "duration": 4,
    "start_time": "2024-10-07T18:05:08.653Z"
   },
   {
    "duration": 14,
    "start_time": "2024-10-07T18:05:29.692Z"
   },
   {
    "duration": 13,
    "start_time": "2024-10-07T18:05:48.207Z"
   },
   {
    "duration": 5,
    "start_time": "2024-10-07T18:08:28.923Z"
   },
   {
    "duration": 15,
    "start_time": "2024-10-07T18:08:45.705Z"
   },
   {
    "duration": 3,
    "start_time": "2024-10-07T18:10:08.788Z"
   },
   {
    "duration": 8,
    "start_time": "2024-10-07T18:10:24.387Z"
   },
   {
    "duration": 8,
    "start_time": "2024-10-07T18:11:05.617Z"
   },
   {
    "duration": 3,
    "start_time": "2024-10-07T18:11:52.181Z"
   },
   {
    "duration": 5,
    "start_time": "2024-10-07T18:15:27.009Z"
   },
   {
    "duration": 3,
    "start_time": "2024-10-07T18:15:31.037Z"
   },
   {
    "duration": 13,
    "start_time": "2024-10-07T18:17:29.592Z"
   },
   {
    "duration": 14,
    "start_time": "2024-10-07T18:17:37.362Z"
   },
   {
    "duration": 3,
    "start_time": "2024-10-07T18:17:52.549Z"
   },
   {
    "duration": 13,
    "start_time": "2024-10-07T18:18:21.374Z"
   },
   {
    "duration": 4,
    "start_time": "2024-10-07T18:18:30.065Z"
   },
   {
    "duration": 3,
    "start_time": "2024-10-07T18:18:40.282Z"
   },
   {
    "duration": 3,
    "start_time": "2024-10-07T18:18:54.059Z"
   },
   {
    "duration": 14,
    "start_time": "2024-10-07T18:21:03.709Z"
   },
   {
    "duration": 12,
    "start_time": "2024-10-07T18:21:10.217Z"
   },
   {
    "duration": 13,
    "start_time": "2024-10-07T18:21:15.670Z"
   },
   {
    "duration": 17,
    "start_time": "2024-10-07T18:22:25.840Z"
   },
   {
    "duration": 13,
    "start_time": "2024-10-07T18:25:50.148Z"
   },
   {
    "duration": 14,
    "start_time": "2024-10-07T18:25:57.315Z"
   },
   {
    "duration": 12,
    "start_time": "2024-10-07T18:26:15.819Z"
   },
   {
    "duration": 15,
    "start_time": "2024-10-07T18:26:26.786Z"
   },
   {
    "duration": 15,
    "start_time": "2024-10-07T18:26:35.333Z"
   },
   {
    "duration": 3,
    "start_time": "2024-10-07T18:28:12.131Z"
   },
   {
    "duration": 32,
    "start_time": "2024-10-07T18:28:17.045Z"
   },
   {
    "duration": 15,
    "start_time": "2024-10-07T18:29:20.472Z"
   },
   {
    "duration": 16,
    "start_time": "2024-10-07T18:29:58.860Z"
   },
   {
    "duration": 11,
    "start_time": "2024-10-07T18:30:52.600Z"
   },
   {
    "duration": 18,
    "start_time": "2024-10-07T18:31:20.700Z"
   },
   {
    "duration": 44,
    "start_time": "2024-10-07T18:32:33.663Z"
   },
   {
    "duration": 3,
    "start_time": "2024-10-07T18:34:08.493Z"
   },
   {
    "duration": 11,
    "start_time": "2024-10-07T18:37:22.373Z"
   },
   {
    "duration": 48,
    "start_time": "2024-10-07T18:38:34.434Z"
   },
   {
    "duration": 11,
    "start_time": "2024-10-07T18:40:47.747Z"
   },
   {
    "duration": 62,
    "start_time": "2024-10-07T18:41:09.427Z"
   },
   {
    "duration": 2,
    "start_time": "2024-10-07T18:43:50.460Z"
   },
   {
    "duration": 15,
    "start_time": "2024-10-07T18:50:33.365Z"
   },
   {
    "duration": 262,
    "start_time": "2024-10-07T18:51:18.822Z"
   },
   {
    "duration": 200,
    "start_time": "2024-10-07T18:52:47.685Z"
   },
   {
    "duration": 264,
    "start_time": "2024-10-07T18:54:17.236Z"
   },
   {
    "duration": 4,
    "start_time": "2024-10-07T18:56:15.726Z"
   },
   {
    "duration": 217,
    "start_time": "2024-10-07T18:56:35.034Z"
   },
   {
    "duration": 197,
    "start_time": "2024-10-07T18:56:41.134Z"
   },
   {
    "duration": 6,
    "start_time": "2024-10-07T18:58:53.393Z"
   },
   {
    "duration": 8,
    "start_time": "2024-10-07T19:02:11.393Z"
   },
   {
    "duration": 8,
    "start_time": "2024-10-07T19:03:03.785Z"
   },
   {
    "duration": 11,
    "start_time": "2024-10-07T19:03:36.045Z"
   },
   {
    "duration": 8,
    "start_time": "2024-10-07T19:05:38.817Z"
   },
   {
    "duration": 16,
    "start_time": "2024-10-07T19:07:11.025Z"
   },
   {
    "duration": 20,
    "start_time": "2024-10-07T19:07:37.289Z"
   },
   {
    "duration": 5,
    "start_time": "2024-10-07T19:11:01.022Z"
   },
   {
    "duration": 3,
    "start_time": "2024-10-07T19:11:24.529Z"
   },
   {
    "duration": 13,
    "start_time": "2024-10-07T19:11:36.073Z"
   },
   {
    "duration": 5,
    "start_time": "2024-10-07T19:14:41.795Z"
   },
   {
    "duration": 13,
    "start_time": "2024-10-07T19:14:59.911Z"
   },
   {
    "duration": 10,
    "start_time": "2024-10-07T19:16:25.850Z"
   },
   {
    "duration": 310,
    "start_time": "2024-10-07T20:58:33.476Z"
   },
   {
    "duration": 156,
    "start_time": "2024-10-07T20:58:33.787Z"
   },
   {
    "duration": 15,
    "start_time": "2024-10-07T20:58:33.945Z"
   },
   {
    "duration": 23,
    "start_time": "2024-10-07T20:58:33.963Z"
   },
   {
    "duration": 3,
    "start_time": "2024-10-07T20:58:33.987Z"
   },
   {
    "duration": 4,
    "start_time": "2024-10-07T20:58:33.992Z"
   },
   {
    "duration": 2,
    "start_time": "2024-10-07T20:58:34.000Z"
   },
   {
    "duration": 38,
    "start_time": "2024-10-07T20:58:34.004Z"
   },
   {
    "duration": 25,
    "start_time": "2024-10-07T20:58:34.044Z"
   },
   {
    "duration": 18,
    "start_time": "2024-10-07T20:58:34.072Z"
   },
   {
    "duration": 60,
    "start_time": "2024-10-07T20:58:34.091Z"
   },
   {
    "duration": 15,
    "start_time": "2024-10-07T20:58:34.153Z"
   },
   {
    "duration": 46,
    "start_time": "2024-10-07T20:58:34.169Z"
   },
   {
    "duration": 53,
    "start_time": "2024-10-07T20:58:34.217Z"
   },
   {
    "duration": 2,
    "start_time": "2024-10-07T20:58:34.272Z"
   },
   {
    "duration": 3,
    "start_time": "2024-10-07T20:58:34.276Z"
   },
   {
    "duration": 211,
    "start_time": "2024-10-07T20:58:34.280Z"
   },
   {
    "duration": 6,
    "start_time": "2024-10-07T20:58:34.493Z"
   },
   {
    "duration": 8,
    "start_time": "2024-10-07T20:58:34.500Z"
   },
   {
    "duration": 8,
    "start_time": "2024-10-07T20:58:34.510Z"
   },
   {
    "duration": 28,
    "start_time": "2024-10-07T20:58:34.519Z"
   },
   {
    "duration": 19,
    "start_time": "2024-10-07T20:58:34.549Z"
   },
   {
    "duration": 13,
    "start_time": "2024-10-07T20:58:34.570Z"
   },
   {
    "duration": 9,
    "start_time": "2024-10-07T20:58:34.585Z"
   },
   {
    "duration": 22,
    "start_time": "2024-10-07T21:00:17.049Z"
   },
   {
    "duration": 294,
    "start_time": "2024-10-09T06:19:13.569Z"
   },
   {
    "duration": 119,
    "start_time": "2024-10-09T06:19:13.866Z"
   },
   {
    "duration": 14,
    "start_time": "2024-10-09T06:19:13.986Z"
   },
   {
    "duration": 32,
    "start_time": "2024-10-09T06:19:14.001Z"
   },
   {
    "duration": 3,
    "start_time": "2024-10-09T06:19:14.035Z"
   },
   {
    "duration": 4,
    "start_time": "2024-10-09T06:19:14.039Z"
   },
   {
    "duration": 3,
    "start_time": "2024-10-09T06:19:14.045Z"
   },
   {
    "duration": 3,
    "start_time": "2024-10-09T06:19:14.050Z"
   },
   {
    "duration": 24,
    "start_time": "2024-10-09T06:19:14.054Z"
   },
   {
    "duration": 53,
    "start_time": "2024-10-09T06:19:14.080Z"
   },
   {
    "duration": 42,
    "start_time": "2024-10-09T06:19:14.134Z"
   },
   {
    "duration": 9,
    "start_time": "2024-10-09T06:19:14.177Z"
   },
   {
    "duration": 78,
    "start_time": "2024-10-09T06:19:14.188Z"
   },
   {
    "duration": 43,
    "start_time": "2024-10-09T06:19:14.269Z"
   },
   {
    "duration": 12,
    "start_time": "2024-10-09T06:19:14.313Z"
   },
   {
    "duration": 4,
    "start_time": "2024-10-09T06:19:14.326Z"
   },
   {
    "duration": 204,
    "start_time": "2024-10-09T06:19:14.331Z"
   },
   {
    "duration": 6,
    "start_time": "2024-10-09T06:19:14.537Z"
   },
   {
    "duration": 8,
    "start_time": "2024-10-09T06:19:14.544Z"
   },
   {
    "duration": 7,
    "start_time": "2024-10-09T06:19:14.554Z"
   },
   {
    "duration": 8,
    "start_time": "2024-10-09T06:19:14.562Z"
   },
   {
    "duration": 511,
    "start_time": "2024-10-09T06:19:14.572Z"
   },
   {
    "duration": 0,
    "start_time": "2024-10-09T06:19:15.085Z"
   },
   {
    "duration": 0,
    "start_time": "2024-10-09T06:19:15.086Z"
   },
   {
    "duration": 7,
    "start_time": "2024-10-09T06:21:47.246Z"
   },
   {
    "duration": 48,
    "start_time": "2024-10-09T06:22:46.492Z"
   },
   {
    "duration": 157,
    "start_time": "2024-10-09T06:47:02.664Z"
   },
   {
    "duration": 13,
    "start_time": "2024-10-09T06:47:03.869Z"
   },
   {
    "duration": 157,
    "start_time": "2024-10-09T14:53:03.307Z"
   },
   {
    "duration": 12,
    "start_time": "2024-10-09T14:54:49.049Z"
   },
   {
    "duration": 13,
    "start_time": "2024-10-09T14:55:15.136Z"
   },
   {
    "duration": 12,
    "start_time": "2024-10-09T15:02:21.012Z"
   },
   {
    "duration": 14,
    "start_time": "2024-10-09T15:02:33.884Z"
   },
   {
    "duration": 11,
    "start_time": "2024-10-09T15:04:40.388Z"
   },
   {
    "duration": 12,
    "start_time": "2024-10-09T15:37:26.851Z"
   },
   {
    "duration": 41,
    "start_time": "2024-10-09T15:38:03.256Z"
   },
   {
    "duration": 12,
    "start_time": "2024-10-09T15:41:29.604Z"
   },
   {
    "duration": 11,
    "start_time": "2024-10-09T15:43:38.977Z"
   },
   {
    "duration": 348,
    "start_time": "2024-10-09T19:23:49.247Z"
   },
   {
    "duration": 160,
    "start_time": "2024-10-09T19:23:49.597Z"
   },
   {
    "duration": 19,
    "start_time": "2024-10-09T19:23:49.760Z"
   },
   {
    "duration": 35,
    "start_time": "2024-10-09T19:23:49.782Z"
   },
   {
    "duration": 13,
    "start_time": "2024-10-09T19:23:49.818Z"
   },
   {
    "duration": 4,
    "start_time": "2024-10-09T19:23:49.833Z"
   },
   {
    "duration": 3,
    "start_time": "2024-10-09T19:23:49.840Z"
   },
   {
    "duration": 3,
    "start_time": "2024-10-09T19:23:49.845Z"
   },
   {
    "duration": 26,
    "start_time": "2024-10-09T19:23:49.849Z"
   },
   {
    "duration": 20,
    "start_time": "2024-10-09T19:23:49.878Z"
   },
   {
    "duration": 85,
    "start_time": "2024-10-09T19:23:49.899Z"
   },
   {
    "duration": 9,
    "start_time": "2024-10-09T19:23:49.986Z"
   },
   {
    "duration": 79,
    "start_time": "2024-10-09T19:23:49.998Z"
   },
   {
    "duration": 40,
    "start_time": "2024-10-09T19:23:50.080Z"
   },
   {
    "duration": 3,
    "start_time": "2024-10-09T19:23:50.132Z"
   },
   {
    "duration": 4,
    "start_time": "2024-10-09T19:23:50.136Z"
   },
   {
    "duration": 211,
    "start_time": "2024-10-09T19:23:50.142Z"
   },
   {
    "duration": 6,
    "start_time": "2024-10-09T19:23:50.355Z"
   },
   {
    "duration": 9,
    "start_time": "2024-10-09T19:23:50.363Z"
   },
   {
    "duration": 6,
    "start_time": "2024-10-09T19:23:50.375Z"
   },
   {
    "duration": 7,
    "start_time": "2024-10-09T19:23:50.383Z"
   },
   {
    "duration": 5,
    "start_time": "2024-10-09T19:23:50.391Z"
   },
   {
    "duration": 40,
    "start_time": "2024-10-09T19:23:50.397Z"
   },
   {
    "duration": 9,
    "start_time": "2024-10-09T19:23:50.438Z"
   },
   {
    "duration": 330,
    "start_time": "2024-10-09T19:24:40.672Z"
   },
   {
    "duration": 125,
    "start_time": "2024-10-09T19:24:41.007Z"
   },
   {
    "duration": 15,
    "start_time": "2024-10-09T19:24:41.133Z"
   },
   {
    "duration": 26,
    "start_time": "2024-10-09T19:24:41.151Z"
   },
   {
    "duration": 4,
    "start_time": "2024-10-09T19:24:41.180Z"
   },
   {
    "duration": 5,
    "start_time": "2024-10-09T19:24:41.186Z"
   },
   {
    "duration": 3,
    "start_time": "2024-10-09T19:24:41.193Z"
   },
   {
    "duration": 3,
    "start_time": "2024-10-09T19:24:41.231Z"
   },
   {
    "duration": 31,
    "start_time": "2024-10-09T19:24:41.236Z"
   },
   {
    "duration": 23,
    "start_time": "2024-10-09T19:24:41.270Z"
   },
   {
    "duration": 81,
    "start_time": "2024-10-09T19:24:41.295Z"
   },
   {
    "duration": 9,
    "start_time": "2024-10-09T19:24:41.378Z"
   },
   {
    "duration": 82,
    "start_time": "2024-10-09T19:24:41.389Z"
   },
   {
    "duration": 40,
    "start_time": "2024-10-09T19:24:41.472Z"
   },
   {
    "duration": 2,
    "start_time": "2024-10-09T19:24:41.514Z"
   },
   {
    "duration": 16,
    "start_time": "2024-10-09T19:24:41.518Z"
   },
   {
    "duration": 244,
    "start_time": "2024-10-09T19:24:41.536Z"
   },
   {
    "duration": 6,
    "start_time": "2024-10-09T19:24:41.782Z"
   },
   {
    "duration": 9,
    "start_time": "2024-10-09T19:24:41.789Z"
   },
   {
    "duration": 8,
    "start_time": "2024-10-09T19:24:41.801Z"
   },
   {
    "duration": 7,
    "start_time": "2024-10-09T19:24:41.831Z"
   },
   {
    "duration": 4,
    "start_time": "2024-10-09T19:24:41.840Z"
   },
   {
    "duration": 7,
    "start_time": "2024-10-09T19:24:41.846Z"
   },
   {
    "duration": 10,
    "start_time": "2024-10-09T19:24:41.855Z"
   },
   {
    "duration": 4,
    "start_time": "2024-10-09T19:25:50.241Z"
   },
   {
    "duration": 6,
    "start_time": "2024-10-09T19:26:24.496Z"
   },
   {
    "duration": 18,
    "start_time": "2024-10-09T19:26:34.990Z"
   },
   {
    "duration": 10,
    "start_time": "2024-10-09T19:26:50.352Z"
   },
   {
    "duration": 13,
    "start_time": "2024-10-09T19:26:56.167Z"
   },
   {
    "duration": 6,
    "start_time": "2024-10-09T19:30:47.404Z"
   },
   {
    "duration": 3,
    "start_time": "2024-10-09T19:34:59.011Z"
   },
   {
    "duration": 191,
    "start_time": "2024-10-09T19:35:03.620Z"
   },
   {
    "duration": 16,
    "start_time": "2024-10-09T19:35:30.832Z"
   },
   {
    "duration": 3,
    "start_time": "2024-10-09T19:35:37.311Z"
   },
   {
    "duration": 141,
    "start_time": "2024-10-09T19:35:37.777Z"
   },
   {
    "duration": 88,
    "start_time": "2024-10-09T19:35:55.864Z"
   },
   {
    "duration": 14,
    "start_time": "2024-10-09T19:36:09.263Z"
   },
   {
    "duration": 41,
    "start_time": "2024-10-09T19:36:20.952Z"
   },
   {
    "duration": 40,
    "start_time": "2024-10-09T19:36:50.702Z"
   },
   {
    "duration": 13,
    "start_time": "2024-10-09T19:36:59.172Z"
   },
   {
    "duration": 2,
    "start_time": "2024-10-09T19:37:28.287Z"
   },
   {
    "duration": 16,
    "start_time": "2024-10-09T19:37:28.916Z"
   },
   {
    "duration": 12,
    "start_time": "2024-10-09T19:37:34.278Z"
   },
   {
    "duration": 7,
    "start_time": "2024-10-09T19:37:42.673Z"
   },
   {
    "duration": 202,
    "start_time": "2024-10-11T01:14:23.051Z"
   },
   {
    "duration": 12,
    "start_time": "2024-10-11T01:18:38.231Z"
   },
   {
    "duration": 12,
    "start_time": "2024-10-11T01:24:05.472Z"
   },
   {
    "duration": 279,
    "start_time": "2024-10-11T06:31:49.098Z"
   },
   {
    "duration": 155,
    "start_time": "2024-10-11T06:31:49.379Z"
   },
   {
    "duration": 13,
    "start_time": "2024-10-11T06:31:49.536Z"
   },
   {
    "duration": 24,
    "start_time": "2024-10-11T06:31:49.551Z"
   },
   {
    "duration": 3,
    "start_time": "2024-10-11T06:31:49.577Z"
   },
   {
    "duration": 4,
    "start_time": "2024-10-11T06:31:49.582Z"
   },
   {
    "duration": 24,
    "start_time": "2024-10-11T06:31:49.587Z"
   },
   {
    "duration": 3,
    "start_time": "2024-10-11T06:31:49.613Z"
   },
   {
    "duration": 25,
    "start_time": "2024-10-11T06:31:49.617Z"
   },
   {
    "duration": 19,
    "start_time": "2024-10-11T06:31:49.645Z"
   },
   {
    "duration": 69,
    "start_time": "2024-10-11T06:31:49.666Z"
   },
   {
    "duration": 9,
    "start_time": "2024-10-11T06:31:49.737Z"
   },
   {
    "duration": 77,
    "start_time": "2024-10-11T06:31:49.748Z"
   },
   {
    "duration": 36,
    "start_time": "2024-10-11T06:31:49.826Z"
   },
   {
    "duration": 4,
    "start_time": "2024-10-11T06:31:49.865Z"
   },
   {
    "duration": 15,
    "start_time": "2024-10-11T06:31:49.870Z"
   },
   {
    "duration": 197,
    "start_time": "2024-10-11T06:31:49.887Z"
   },
   {
    "duration": 0,
    "start_time": "2024-10-11T06:31:50.086Z"
   },
   {
    "duration": 0,
    "start_time": "2024-10-11T06:31:50.087Z"
   },
   {
    "duration": 0,
    "start_time": "2024-10-11T06:31:50.089Z"
   },
   {
    "duration": 0,
    "start_time": "2024-10-11T06:31:50.090Z"
   },
   {
    "duration": 0,
    "start_time": "2024-10-11T06:31:50.092Z"
   },
   {
    "duration": 0,
    "start_time": "2024-10-11T06:31:50.093Z"
   },
   {
    "duration": 0,
    "start_time": "2024-10-11T06:31:50.094Z"
   },
   {
    "duration": 15,
    "start_time": "2024-10-11T06:33:15.920Z"
   },
   {
    "duration": 13,
    "start_time": "2024-10-11T06:33:16.972Z"
   },
   {
    "duration": 6,
    "start_time": "2024-10-11T06:33:29.696Z"
   },
   {
    "duration": 27,
    "start_time": "2024-10-11T06:33:40.369Z"
   },
   {
    "duration": 15,
    "start_time": "2024-10-11T06:33:47.541Z"
   },
   {
    "duration": 313,
    "start_time": "2024-10-11T06:34:22.052Z"
   },
   {
    "duration": 122,
    "start_time": "2024-10-11T06:34:22.367Z"
   },
   {
    "duration": 20,
    "start_time": "2024-10-11T06:34:22.490Z"
   },
   {
    "duration": 25,
    "start_time": "2024-10-11T06:34:22.511Z"
   },
   {
    "duration": 3,
    "start_time": "2024-10-11T06:34:22.538Z"
   },
   {
    "duration": 4,
    "start_time": "2024-10-11T06:34:22.543Z"
   },
   {
    "duration": 3,
    "start_time": "2024-10-11T06:34:22.549Z"
   },
   {
    "duration": 2,
    "start_time": "2024-10-11T06:34:22.554Z"
   },
   {
    "duration": 59,
    "start_time": "2024-10-11T06:34:22.559Z"
   },
   {
    "duration": 19,
    "start_time": "2024-10-11T06:34:22.621Z"
   },
   {
    "duration": 41,
    "start_time": "2024-10-11T06:34:22.641Z"
   },
   {
    "duration": 26,
    "start_time": "2024-10-11T06:34:22.684Z"
   },
   {
    "duration": 51,
    "start_time": "2024-10-11T06:34:22.711Z"
   },
   {
    "duration": 53,
    "start_time": "2024-10-11T06:34:22.763Z"
   },
   {
    "duration": 3,
    "start_time": "2024-10-11T06:34:22.817Z"
   },
   {
    "duration": 14,
    "start_time": "2024-10-11T06:34:22.822Z"
   },
   {
    "duration": 15,
    "start_time": "2024-10-11T06:34:22.838Z"
   },
   {
    "duration": 5,
    "start_time": "2024-10-11T06:34:22.855Z"
   },
   {
    "duration": 7,
    "start_time": "2024-10-11T06:34:22.862Z"
   },
   {
    "duration": 6,
    "start_time": "2024-10-11T06:34:22.871Z"
   },
   {
    "duration": 5,
    "start_time": "2024-10-11T06:34:22.909Z"
   },
   {
    "duration": 5,
    "start_time": "2024-10-11T06:34:22.916Z"
   },
   {
    "duration": 195,
    "start_time": "2024-10-11T06:34:22.923Z"
   },
   {
    "duration": 0,
    "start_time": "2024-10-11T06:34:23.120Z"
   },
   {
    "duration": 287,
    "start_time": "2024-10-11T06:34:41.400Z"
   },
   {
    "duration": 123,
    "start_time": "2024-10-11T06:34:41.689Z"
   },
   {
    "duration": 14,
    "start_time": "2024-10-11T06:34:41.814Z"
   },
   {
    "duration": 24,
    "start_time": "2024-10-11T06:34:41.830Z"
   },
   {
    "duration": 3,
    "start_time": "2024-10-11T06:34:41.856Z"
   },
   {
    "duration": 3,
    "start_time": "2024-10-11T06:34:41.861Z"
   },
   {
    "duration": 3,
    "start_time": "2024-10-11T06:34:41.866Z"
   },
   {
    "duration": 38,
    "start_time": "2024-10-11T06:34:41.871Z"
   },
   {
    "duration": 24,
    "start_time": "2024-10-11T06:34:41.911Z"
   },
   {
    "duration": 20,
    "start_time": "2024-10-11T06:34:41.939Z"
   },
   {
    "duration": 61,
    "start_time": "2024-10-11T06:34:41.961Z"
   },
   {
    "duration": 10,
    "start_time": "2024-10-11T06:34:42.024Z"
   },
   {
    "duration": 48,
    "start_time": "2024-10-11T06:34:42.036Z"
   },
   {
    "duration": 54,
    "start_time": "2024-10-11T06:34:42.085Z"
   },
   {
    "duration": 3,
    "start_time": "2024-10-11T06:34:42.141Z"
   },
   {
    "duration": 14,
    "start_time": "2024-10-11T06:34:42.146Z"
   },
   {
    "duration": 17,
    "start_time": "2024-10-11T06:34:42.161Z"
   },
   {
    "duration": 30,
    "start_time": "2024-10-11T06:34:42.180Z"
   },
   {
    "duration": 7,
    "start_time": "2024-10-11T06:34:42.213Z"
   },
   {
    "duration": 7,
    "start_time": "2024-10-11T06:34:42.222Z"
   },
   {
    "duration": 8,
    "start_time": "2024-10-11T06:34:42.231Z"
   },
   {
    "duration": 7,
    "start_time": "2024-10-11T06:34:42.241Z"
   },
   {
    "duration": 217,
    "start_time": "2024-10-11T06:34:42.250Z"
   },
   {
    "duration": 0,
    "start_time": "2024-10-11T06:34:42.469Z"
   },
   {
    "duration": 14,
    "start_time": "2024-10-11T06:35:02.260Z"
   },
   {
    "duration": 14,
    "start_time": "2024-10-11T06:35:53.009Z"
   },
   {
    "duration": 14,
    "start_time": "2024-10-11T06:36:08.352Z"
   },
   {
    "duration": 324,
    "start_time": "2024-10-11T14:35:41.279Z"
   },
   {
    "duration": 158,
    "start_time": "2024-10-11T14:35:41.607Z"
   },
   {
    "duration": 14,
    "start_time": "2024-10-11T14:35:41.767Z"
   },
   {
    "duration": 29,
    "start_time": "2024-10-11T14:35:41.783Z"
   },
   {
    "duration": 3,
    "start_time": "2024-10-11T14:35:41.815Z"
   },
   {
    "duration": 4,
    "start_time": "2024-10-11T14:35:41.820Z"
   },
   {
    "duration": 3,
    "start_time": "2024-10-11T14:35:41.825Z"
   },
   {
    "duration": 4,
    "start_time": "2024-10-11T14:35:41.830Z"
   },
   {
    "duration": 30,
    "start_time": "2024-10-11T14:35:41.836Z"
   },
   {
    "duration": 45,
    "start_time": "2024-10-11T14:35:41.867Z"
   },
   {
    "duration": 60,
    "start_time": "2024-10-11T14:35:41.913Z"
   },
   {
    "duration": 10,
    "start_time": "2024-10-11T14:35:41.974Z"
   },
   {
    "duration": 68,
    "start_time": "2024-10-11T14:35:41.986Z"
   },
   {
    "duration": 60,
    "start_time": "2024-10-11T14:35:42.058Z"
   },
   {
    "duration": 4,
    "start_time": "2024-10-11T14:35:42.120Z"
   },
   {
    "duration": 18,
    "start_time": "2024-10-11T14:35:42.127Z"
   },
   {
    "duration": 228,
    "start_time": "2024-10-11T14:35:42.147Z"
   },
   {
    "duration": 0,
    "start_time": "2024-10-11T14:35:42.376Z"
   },
   {
    "duration": 0,
    "start_time": "2024-10-11T14:35:42.379Z"
   },
   {
    "duration": 0,
    "start_time": "2024-10-11T14:35:42.380Z"
   },
   {
    "duration": 0,
    "start_time": "2024-10-11T14:35:42.381Z"
   },
   {
    "duration": 0,
    "start_time": "2024-10-11T14:35:42.382Z"
   },
   {
    "duration": 0,
    "start_time": "2024-10-11T14:35:42.383Z"
   },
   {
    "duration": 0,
    "start_time": "2024-10-11T14:35:42.384Z"
   },
   {
    "duration": 291,
    "start_time": "2024-10-12T09:38:49.667Z"
   },
   {
    "duration": 118,
    "start_time": "2024-10-12T09:38:49.960Z"
   },
   {
    "duration": 14,
    "start_time": "2024-10-12T09:38:50.080Z"
   },
   {
    "duration": 23,
    "start_time": "2024-10-12T09:38:50.096Z"
   },
   {
    "duration": 3,
    "start_time": "2024-10-12T09:38:50.121Z"
   },
   {
    "duration": 3,
    "start_time": "2024-10-12T09:38:50.126Z"
   },
   {
    "duration": 3,
    "start_time": "2024-10-12T09:38:50.131Z"
   },
   {
    "duration": 4,
    "start_time": "2024-10-12T09:38:50.169Z"
   },
   {
    "duration": 25,
    "start_time": "2024-10-12T09:38:50.174Z"
   },
   {
    "duration": 18,
    "start_time": "2024-10-12T09:38:50.202Z"
   },
   {
    "duration": 62,
    "start_time": "2024-10-12T09:38:50.222Z"
   },
   {
    "duration": 10,
    "start_time": "2024-10-12T09:38:50.285Z"
   },
   {
    "duration": 48,
    "start_time": "2024-10-12T09:38:50.297Z"
   },
   {
    "duration": 55,
    "start_time": "2024-10-12T09:38:50.347Z"
   },
   {
    "duration": 3,
    "start_time": "2024-10-12T09:38:50.403Z"
   },
   {
    "duration": 13,
    "start_time": "2024-10-12T09:38:50.408Z"
   },
   {
    "duration": 188,
    "start_time": "2024-10-12T09:38:50.423Z"
   },
   {
    "duration": 0,
    "start_time": "2024-10-12T09:38:50.612Z"
   },
   {
    "duration": 0,
    "start_time": "2024-10-12T09:38:50.614Z"
   },
   {
    "duration": 0,
    "start_time": "2024-10-12T09:38:50.614Z"
   },
   {
    "duration": 0,
    "start_time": "2024-10-12T09:38:50.615Z"
   },
   {
    "duration": 0,
    "start_time": "2024-10-12T09:38:50.616Z"
   },
   {
    "duration": 0,
    "start_time": "2024-10-12T09:38:50.618Z"
   },
   {
    "duration": 0,
    "start_time": "2024-10-12T09:38:50.619Z"
   },
   {
    "duration": 5,
    "start_time": "2024-10-12T09:39:05.633Z"
   },
   {
    "duration": 7,
    "start_time": "2024-10-12T09:39:18.734Z"
   },
   {
    "duration": 8,
    "start_time": "2024-10-12T09:39:19.316Z"
   },
   {
    "duration": 7,
    "start_time": "2024-10-12T09:39:23.000Z"
   },
   {
    "duration": 6,
    "start_time": "2024-10-12T09:39:24.011Z"
   },
   {
    "duration": 17,
    "start_time": "2024-10-12T09:39:27.067Z"
   },
   {
    "duration": 13,
    "start_time": "2024-10-12T09:39:48.970Z"
   },
   {
    "duration": 197,
    "start_time": "2024-10-15T16:05:57.917Z"
   },
   {
    "duration": 13,
    "start_time": "2024-10-15T16:06:22.144Z"
   },
   {
    "duration": 11,
    "start_time": "2024-10-15T16:07:14.585Z"
   },
   {
    "duration": 275,
    "start_time": "2024-10-15T16:10:55.795Z"
   },
   {
    "duration": 177,
    "start_time": "2024-10-15T16:10:58.447Z"
   },
   {
    "duration": 14,
    "start_time": "2024-10-15T16:11:03.452Z"
   },
   {
    "duration": 44,
    "start_time": "2024-10-15T16:11:08.136Z"
   },
   {
    "duration": 4,
    "start_time": "2024-10-15T16:11:13.043Z"
   },
   {
    "duration": 3,
    "start_time": "2024-10-15T16:11:17.367Z"
   },
   {
    "duration": 3,
    "start_time": "2024-10-15T16:11:19.218Z"
   },
   {
    "duration": 3,
    "start_time": "2024-10-15T16:11:23.083Z"
   },
   {
    "duration": 24,
    "start_time": "2024-10-15T16:11:25.830Z"
   },
   {
    "duration": 20,
    "start_time": "2024-10-15T16:11:30.833Z"
   },
   {
    "duration": 61,
    "start_time": "2024-10-15T16:11:35.849Z"
   },
   {
    "duration": 13,
    "start_time": "2024-10-15T16:11:56.839Z"
   },
   {
    "duration": 52,
    "start_time": "2024-10-15T16:11:58.545Z"
   },
   {
    "duration": 37,
    "start_time": "2024-10-15T16:12:00.648Z"
   },
   {
    "duration": 3,
    "start_time": "2024-10-15T16:12:02.502Z"
   },
   {
    "duration": 21,
    "start_time": "2024-10-15T16:12:03.736Z"
   },
   {
    "duration": 6,
    "start_time": "2024-10-15T16:12:06.613Z"
   },
   {
    "duration": 9,
    "start_time": "2024-10-15T16:12:10.032Z"
   },
   {
    "duration": 11,
    "start_time": "2024-10-15T16:12:10.863Z"
   },
   {
    "duration": 10,
    "start_time": "2024-10-15T16:12:43.024Z"
   },
   {
    "duration": 11,
    "start_time": "2024-10-15T16:12:56.289Z"
   },
   {
    "duration": 558,
    "start_time": "2024-10-15T16:13:03.224Z"
   },
   {
    "duration": 10,
    "start_time": "2024-10-15T16:13:24.320Z"
   },
   {
    "duration": 8,
    "start_time": "2024-10-15T16:13:36.915Z"
   },
   {
    "duration": 5,
    "start_time": "2024-10-15T16:13:53.300Z"
   },
   {
    "duration": 21,
    "start_time": "2024-10-15T16:13:58.723Z"
   },
   {
    "duration": 8,
    "start_time": "2024-10-15T16:15:45.881Z"
   },
   {
    "duration": 13,
    "start_time": "2024-10-15T16:16:16.366Z"
   },
   {
    "duration": 277,
    "start_time": "2024-10-15T16:19:19.692Z"
   },
   {
    "duration": 8,
    "start_time": "2024-10-15T16:19:46.740Z"
   },
   {
    "duration": 5,
    "start_time": "2024-10-15T16:19:48.108Z"
   },
   {
    "duration": 306,
    "start_time": "2024-10-15T18:10:19.837Z"
   },
   {
    "duration": 118,
    "start_time": "2024-10-15T18:10:20.145Z"
   },
   {
    "duration": 13,
    "start_time": "2024-10-15T18:10:20.265Z"
   },
   {
    "duration": 26,
    "start_time": "2024-10-15T18:10:20.280Z"
   },
   {
    "duration": 3,
    "start_time": "2024-10-15T18:10:20.308Z"
   },
   {
    "duration": 3,
    "start_time": "2024-10-15T18:10:20.313Z"
   },
   {
    "duration": 3,
    "start_time": "2024-10-15T18:10:20.318Z"
   },
   {
    "duration": 3,
    "start_time": "2024-10-15T18:10:20.323Z"
   },
   {
    "duration": 23,
    "start_time": "2024-10-15T18:10:20.328Z"
   },
   {
    "duration": 56,
    "start_time": "2024-10-15T18:10:20.353Z"
   },
   {
    "duration": 40,
    "start_time": "2024-10-15T18:10:20.410Z"
   },
   {
    "duration": 9,
    "start_time": "2024-10-15T18:10:20.451Z"
   },
   {
    "duration": 67,
    "start_time": "2024-10-15T18:10:20.462Z"
   },
   {
    "duration": 36,
    "start_time": "2024-10-15T18:10:20.532Z"
   },
   {
    "duration": 2,
    "start_time": "2024-10-15T18:10:20.570Z"
   },
   {
    "duration": 14,
    "start_time": "2024-10-15T18:10:20.574Z"
   },
   {
    "duration": 17,
    "start_time": "2024-10-15T18:10:20.590Z"
   },
   {
    "duration": 9,
    "start_time": "2024-10-15T18:10:20.609Z"
   },
   {
    "duration": 11,
    "start_time": "2024-10-15T18:10:20.620Z"
   },
   {
    "duration": 8,
    "start_time": "2024-10-15T18:10:20.633Z"
   },
   {
    "duration": 6,
    "start_time": "2024-10-15T18:10:20.642Z"
   },
   {
    "duration": 7,
    "start_time": "2024-10-15T18:10:20.650Z"
   },
   {
    "duration": 49,
    "start_time": "2024-10-15T18:10:20.659Z"
   },
   {
    "duration": 290,
    "start_time": "2024-10-15T18:13:52.069Z"
   },
   {
    "duration": 125,
    "start_time": "2024-10-15T18:13:52.362Z"
   },
   {
    "duration": 21,
    "start_time": "2024-10-15T18:13:52.489Z"
   },
   {
    "duration": 25,
    "start_time": "2024-10-15T18:13:52.513Z"
   },
   {
    "duration": 3,
    "start_time": "2024-10-15T18:13:52.540Z"
   },
   {
    "duration": 3,
    "start_time": "2024-10-15T18:13:52.545Z"
   },
   {
    "duration": 4,
    "start_time": "2024-10-15T18:13:52.550Z"
   },
   {
    "duration": 3,
    "start_time": "2024-10-15T18:13:52.555Z"
   },
   {
    "duration": 61,
    "start_time": "2024-10-15T18:13:52.560Z"
   },
   {
    "duration": 22,
    "start_time": "2024-10-15T18:13:52.625Z"
   },
   {
    "duration": 56,
    "start_time": "2024-10-15T18:13:52.649Z"
   },
   {
    "duration": 15,
    "start_time": "2024-10-15T18:13:52.707Z"
   },
   {
    "duration": 47,
    "start_time": "2024-10-15T18:13:52.724Z"
   },
   {
    "duration": 59,
    "start_time": "2024-10-15T18:13:52.772Z"
   },
   {
    "duration": 2,
    "start_time": "2024-10-15T18:13:52.833Z"
   },
   {
    "duration": 14,
    "start_time": "2024-10-15T18:13:52.837Z"
   },
   {
    "duration": 5,
    "start_time": "2024-10-15T18:13:52.853Z"
   },
   {
    "duration": 8,
    "start_time": "2024-10-15T18:13:52.860Z"
   },
   {
    "duration": 10,
    "start_time": "2024-10-15T18:13:52.869Z"
   },
   {
    "duration": 28,
    "start_time": "2024-10-15T18:13:52.880Z"
   },
   {
    "duration": 6,
    "start_time": "2024-10-15T18:13:52.911Z"
   },
   {
    "duration": 7,
    "start_time": "2024-10-15T18:13:52.919Z"
   },
   {
    "duration": 6,
    "start_time": "2024-10-15T18:13:52.928Z"
   }
  ],
  "kernelspec": {
   "display_name": "Python 3 (ipykernel)",
   "language": "python",
   "name": "python3"
  },
  "language_info": {
   "codemirror_mode": {
    "name": "ipython",
    "version": 3
   },
   "file_extension": ".py",
   "mimetype": "text/x-python",
   "name": "python",
   "nbconvert_exporter": "python",
   "pygments_lexer": "ipython3",
   "version": "3.12.2"
  },
  "toc": {
   "base_numbering": 1,
   "nav_menu": {},
   "number_sections": true,
   "sideBar": true,
   "skip_h1_title": true,
   "title_cell": "Table of Contents",
   "title_sidebar": "Contents",
   "toc_cell": false,
   "toc_position": {},
   "toc_section_display": true,
   "toc_window_display": false
  }
 },
 "nbformat": 4,
 "nbformat_minor": 5
}
